{
  "cells": [
    {
      "cell_type": "code",
      "execution_count": null,
      "metadata": {
        "id": "__qJoNsgVZLm"
      },
      "outputs": [],
      "source": [
        "import pandas as pd\n",
        "import numpy as np\n",
        "import matplotlib.pyplot as plt\n",
        "%matplotlib inline"
      ]
    },
    {
      "cell_type": "code",
      "execution_count": null,
      "metadata": {
        "colab": {
          "base_uri": "https://localhost:8080/",
          "height": 328
        },
        "id": "lTnXvEReVZLq",
        "outputId": "bf8d0eda-ebb0-4e01-8060-8320ab456dfc"
      },
      "outputs": [
        {
          "output_type": "error",
          "ename": "FileNotFoundError",
          "evalue": "ignored",
          "traceback": [
            "\u001b[0;31m---------------------------------------------------------------------------\u001b[0m",
            "\u001b[0;31mFileNotFoundError\u001b[0m                         Traceback (most recent call last)",
            "\u001b[0;32m<ipython-input-2-9adca07d9bae>\u001b[0m in \u001b[0;36m<module>\u001b[0;34m\u001b[0m\n\u001b[0;32m----> 1\u001b[0;31m \u001b[0mdataset\u001b[0m \u001b[0;34m=\u001b[0m \u001b[0mpd\u001b[0m\u001b[0;34m.\u001b[0m\u001b[0mread_csv\u001b[0m\u001b[0;34m(\u001b[0m\u001b[0;34m\"creditcard.csv\"\u001b[0m\u001b[0;34m)\u001b[0m\u001b[0;34m\u001b[0m\u001b[0;34m\u001b[0m\u001b[0m\n\u001b[0m\u001b[1;32m      2\u001b[0m \u001b[0mdataset\u001b[0m\u001b[0;34m.\u001b[0m\u001b[0mshape\u001b[0m\u001b[0;34m\u001b[0m\u001b[0;34m\u001b[0m\u001b[0m\n",
            "\u001b[0;32m/usr/local/lib/python3.9/dist-packages/pandas/util/_decorators.py\u001b[0m in \u001b[0;36mwrapper\u001b[0;34m(*args, **kwargs)\u001b[0m\n\u001b[1;32m    309\u001b[0m                     \u001b[0mstacklevel\u001b[0m\u001b[0;34m=\u001b[0m\u001b[0mstacklevel\u001b[0m\u001b[0;34m,\u001b[0m\u001b[0;34m\u001b[0m\u001b[0;34m\u001b[0m\u001b[0m\n\u001b[1;32m    310\u001b[0m                 )\n\u001b[0;32m--> 311\u001b[0;31m             \u001b[0;32mreturn\u001b[0m \u001b[0mfunc\u001b[0m\u001b[0;34m(\u001b[0m\u001b[0;34m*\u001b[0m\u001b[0margs\u001b[0m\u001b[0;34m,\u001b[0m \u001b[0;34m**\u001b[0m\u001b[0mkwargs\u001b[0m\u001b[0;34m)\u001b[0m\u001b[0;34m\u001b[0m\u001b[0;34m\u001b[0m\u001b[0m\n\u001b[0m\u001b[1;32m    312\u001b[0m \u001b[0;34m\u001b[0m\u001b[0m\n\u001b[1;32m    313\u001b[0m         \u001b[0;32mreturn\u001b[0m \u001b[0mwrapper\u001b[0m\u001b[0;34m\u001b[0m\u001b[0;34m\u001b[0m\u001b[0m\n",
            "\u001b[0;32m/usr/local/lib/python3.9/dist-packages/pandas/io/parsers/readers.py\u001b[0m in \u001b[0;36mread_csv\u001b[0;34m(filepath_or_buffer, sep, delimiter, header, names, index_col, usecols, squeeze, prefix, mangle_dupe_cols, dtype, engine, converters, true_values, false_values, skipinitialspace, skiprows, skipfooter, nrows, na_values, keep_default_na, na_filter, verbose, skip_blank_lines, parse_dates, infer_datetime_format, keep_date_col, date_parser, dayfirst, cache_dates, iterator, chunksize, compression, thousands, decimal, lineterminator, quotechar, quoting, doublequote, escapechar, comment, encoding, encoding_errors, dialect, error_bad_lines, warn_bad_lines, on_bad_lines, delim_whitespace, low_memory, memory_map, float_precision, storage_options)\u001b[0m\n\u001b[1;32m    676\u001b[0m     \u001b[0mkwds\u001b[0m\u001b[0;34m.\u001b[0m\u001b[0mupdate\u001b[0m\u001b[0;34m(\u001b[0m\u001b[0mkwds_defaults\u001b[0m\u001b[0;34m)\u001b[0m\u001b[0;34m\u001b[0m\u001b[0;34m\u001b[0m\u001b[0m\n\u001b[1;32m    677\u001b[0m \u001b[0;34m\u001b[0m\u001b[0m\n\u001b[0;32m--> 678\u001b[0;31m     \u001b[0;32mreturn\u001b[0m \u001b[0m_read\u001b[0m\u001b[0;34m(\u001b[0m\u001b[0mfilepath_or_buffer\u001b[0m\u001b[0;34m,\u001b[0m \u001b[0mkwds\u001b[0m\u001b[0;34m)\u001b[0m\u001b[0;34m\u001b[0m\u001b[0;34m\u001b[0m\u001b[0m\n\u001b[0m\u001b[1;32m    679\u001b[0m \u001b[0;34m\u001b[0m\u001b[0m\n\u001b[1;32m    680\u001b[0m \u001b[0;34m\u001b[0m\u001b[0m\n",
            "\u001b[0;32m/usr/local/lib/python3.9/dist-packages/pandas/io/parsers/readers.py\u001b[0m in \u001b[0;36m_read\u001b[0;34m(filepath_or_buffer, kwds)\u001b[0m\n\u001b[1;32m    573\u001b[0m \u001b[0;34m\u001b[0m\u001b[0m\n\u001b[1;32m    574\u001b[0m     \u001b[0;31m# Create the parser.\u001b[0m\u001b[0;34m\u001b[0m\u001b[0;34m\u001b[0m\u001b[0m\n\u001b[0;32m--> 575\u001b[0;31m     \u001b[0mparser\u001b[0m \u001b[0;34m=\u001b[0m \u001b[0mTextFileReader\u001b[0m\u001b[0;34m(\u001b[0m\u001b[0mfilepath_or_buffer\u001b[0m\u001b[0;34m,\u001b[0m \u001b[0;34m**\u001b[0m\u001b[0mkwds\u001b[0m\u001b[0;34m)\u001b[0m\u001b[0;34m\u001b[0m\u001b[0;34m\u001b[0m\u001b[0m\n\u001b[0m\u001b[1;32m    576\u001b[0m \u001b[0;34m\u001b[0m\u001b[0m\n\u001b[1;32m    577\u001b[0m     \u001b[0;32mif\u001b[0m \u001b[0mchunksize\u001b[0m \u001b[0;32mor\u001b[0m \u001b[0miterator\u001b[0m\u001b[0;34m:\u001b[0m\u001b[0;34m\u001b[0m\u001b[0;34m\u001b[0m\u001b[0m\n",
            "\u001b[0;32m/usr/local/lib/python3.9/dist-packages/pandas/io/parsers/readers.py\u001b[0m in \u001b[0;36m__init__\u001b[0;34m(self, f, engine, **kwds)\u001b[0m\n\u001b[1;32m    930\u001b[0m \u001b[0;34m\u001b[0m\u001b[0m\n\u001b[1;32m    931\u001b[0m         \u001b[0mself\u001b[0m\u001b[0;34m.\u001b[0m\u001b[0mhandles\u001b[0m\u001b[0;34m:\u001b[0m \u001b[0mIOHandles\u001b[0m \u001b[0;34m|\u001b[0m \u001b[0;32mNone\u001b[0m \u001b[0;34m=\u001b[0m \u001b[0;32mNone\u001b[0m\u001b[0;34m\u001b[0m\u001b[0;34m\u001b[0m\u001b[0m\n\u001b[0;32m--> 932\u001b[0;31m         \u001b[0mself\u001b[0m\u001b[0;34m.\u001b[0m\u001b[0m_engine\u001b[0m \u001b[0;34m=\u001b[0m \u001b[0mself\u001b[0m\u001b[0;34m.\u001b[0m\u001b[0m_make_engine\u001b[0m\u001b[0;34m(\u001b[0m\u001b[0mf\u001b[0m\u001b[0;34m,\u001b[0m \u001b[0mself\u001b[0m\u001b[0;34m.\u001b[0m\u001b[0mengine\u001b[0m\u001b[0;34m)\u001b[0m\u001b[0;34m\u001b[0m\u001b[0;34m\u001b[0m\u001b[0m\n\u001b[0m\u001b[1;32m    933\u001b[0m \u001b[0;34m\u001b[0m\u001b[0m\n\u001b[1;32m    934\u001b[0m     \u001b[0;32mdef\u001b[0m \u001b[0mclose\u001b[0m\u001b[0;34m(\u001b[0m\u001b[0mself\u001b[0m\u001b[0;34m)\u001b[0m\u001b[0;34m:\u001b[0m\u001b[0;34m\u001b[0m\u001b[0;34m\u001b[0m\u001b[0m\n",
            "\u001b[0;32m/usr/local/lib/python3.9/dist-packages/pandas/io/parsers/readers.py\u001b[0m in \u001b[0;36m_make_engine\u001b[0;34m(self, f, engine)\u001b[0m\n\u001b[1;32m   1214\u001b[0m             \u001b[0;31m# \"Union[str, PathLike[str], ReadCsvBuffer[bytes], ReadCsvBuffer[str]]\"\u001b[0m\u001b[0;34m\u001b[0m\u001b[0;34m\u001b[0m\u001b[0m\n\u001b[1;32m   1215\u001b[0m             \u001b[0;31m# , \"str\", \"bool\", \"Any\", \"Any\", \"Any\", \"Any\", \"Any\"\u001b[0m\u001b[0;34m\u001b[0m\u001b[0;34m\u001b[0m\u001b[0m\n\u001b[0;32m-> 1216\u001b[0;31m             self.handles = get_handle(  # type: ignore[call-overload]\n\u001b[0m\u001b[1;32m   1217\u001b[0m                 \u001b[0mf\u001b[0m\u001b[0;34m,\u001b[0m\u001b[0;34m\u001b[0m\u001b[0;34m\u001b[0m\u001b[0m\n\u001b[1;32m   1218\u001b[0m                 \u001b[0mmode\u001b[0m\u001b[0;34m,\u001b[0m\u001b[0;34m\u001b[0m\u001b[0;34m\u001b[0m\u001b[0m\n",
            "\u001b[0;32m/usr/local/lib/python3.9/dist-packages/pandas/io/common.py\u001b[0m in \u001b[0;36mget_handle\u001b[0;34m(path_or_buf, mode, encoding, compression, memory_map, is_text, errors, storage_options)\u001b[0m\n\u001b[1;32m    784\u001b[0m         \u001b[0;32mif\u001b[0m \u001b[0mioargs\u001b[0m\u001b[0;34m.\u001b[0m\u001b[0mencoding\u001b[0m \u001b[0;32mand\u001b[0m \u001b[0;34m\"b\"\u001b[0m \u001b[0;32mnot\u001b[0m \u001b[0;32min\u001b[0m \u001b[0mioargs\u001b[0m\u001b[0;34m.\u001b[0m\u001b[0mmode\u001b[0m\u001b[0;34m:\u001b[0m\u001b[0;34m\u001b[0m\u001b[0;34m\u001b[0m\u001b[0m\n\u001b[1;32m    785\u001b[0m             \u001b[0;31m# Encoding\u001b[0m\u001b[0;34m\u001b[0m\u001b[0;34m\u001b[0m\u001b[0m\n\u001b[0;32m--> 786\u001b[0;31m             handle = open(\n\u001b[0m\u001b[1;32m    787\u001b[0m                 \u001b[0mhandle\u001b[0m\u001b[0;34m,\u001b[0m\u001b[0;34m\u001b[0m\u001b[0;34m\u001b[0m\u001b[0m\n\u001b[1;32m    788\u001b[0m                 \u001b[0mioargs\u001b[0m\u001b[0;34m.\u001b[0m\u001b[0mmode\u001b[0m\u001b[0;34m,\u001b[0m\u001b[0;34m\u001b[0m\u001b[0;34m\u001b[0m\u001b[0m\n",
            "\u001b[0;31mFileNotFoundError\u001b[0m: [Errno 2] No such file or directory: 'creditcard.csv'"
          ]
        }
      ],
      "source": [
        "dataset = pd.read_csv(\"creditcard.csv\")\n",
        "dataset.shape"
      ]
    },
    {
      "cell_type": "code",
      "execution_count": null,
      "metadata": {
        "colab": {
          "base_uri": "https://localhost:8080/",
          "height": 299
        },
        "id": "LslljTcNVZLr",
        "outputId": "8492858d-b8af-4cb6-a978-fe922fabed96"
      },
      "outputs": [
        {
          "output_type": "execute_result",
          "data": {
            "text/plain": [
              "        Time        V1        V2        V3        V4        V5        V6  \\\n",
              "21873  31906  1.285161 -0.701455  0.221870 -0.744753 -0.674967  0.034267   \n",
              "21874  31906 -0.345979  1.094568  1.282208  0.068241 -0.016965 -0.989567   \n",
              "21875  31907  1.171852  0.718042 -0.227521  1.373722  0.152349 -0.949840   \n",
              "21876  31907  1.209330 -1.130242  1.614261  0.000265 -1.974416  0.262320   \n",
              "21877  31907 -0.184653  0.376693  0.632988 -2.282365  0.403553 -0.371666   \n",
              "\n",
              "             V7        V8        V9  ...       V21       V22       V23  \\\n",
              "21873 -0.631373  0.097860 -0.835749  ...  0.083025  0.190059 -0.074942   \n",
              "21874  0.693958 -0.050855 -0.333856  ... -0.266852 -0.723026 -0.003364   \n",
              "21875  0.271427 -0.153000 -0.184297  ... -0.013584  0.088759 -0.059148   \n",
              "21876 -1.369554  0.173769  0.639855  ... -0.520157 -0.573057  0.037646   \n",
              "21877  0.695359 -0.064835  0.610986  ... -0.130997 -0.312833 -0.156567   \n",
              "\n",
              "            V24       V25       V26       V27       V28  Amount  Class  \n",
              "21873 -0.278466  0.463615 -0.223877  0.011735  0.000997   39.75    0.0  \n",
              "21874  0.322646 -0.173496  0.073145  0.241997  0.097610    5.99    0.0  \n",
              "21875  0.278992  0.589886 -0.319374  0.055064  0.058347    1.00    0.0  \n",
              "21876  0.488580  0.161446  1.067798  0.025745  0.028549   40.00    0.0  \n",
              "21877 -0.899683  0.093186 -0.130187  0.029255  0.009228     NaN    NaN  \n",
              "\n",
              "[5 rows x 31 columns]"
            ],
            "text/html": [
              "\n",
              "  <div id=\"df-eff60515-e04d-4463-910c-46753e23adad\">\n",
              "    <div class=\"colab-df-container\">\n",
              "      <div>\n",
              "<style scoped>\n",
              "    .dataframe tbody tr th:only-of-type {\n",
              "        vertical-align: middle;\n",
              "    }\n",
              "\n",
              "    .dataframe tbody tr th {\n",
              "        vertical-align: top;\n",
              "    }\n",
              "\n",
              "    .dataframe thead th {\n",
              "        text-align: right;\n",
              "    }\n",
              "</style>\n",
              "<table border=\"1\" class=\"dataframe\">\n",
              "  <thead>\n",
              "    <tr style=\"text-align: right;\">\n",
              "      <th></th>\n",
              "      <th>Time</th>\n",
              "      <th>V1</th>\n",
              "      <th>V2</th>\n",
              "      <th>V3</th>\n",
              "      <th>V4</th>\n",
              "      <th>V5</th>\n",
              "      <th>V6</th>\n",
              "      <th>V7</th>\n",
              "      <th>V8</th>\n",
              "      <th>V9</th>\n",
              "      <th>...</th>\n",
              "      <th>V21</th>\n",
              "      <th>V22</th>\n",
              "      <th>V23</th>\n",
              "      <th>V24</th>\n",
              "      <th>V25</th>\n",
              "      <th>V26</th>\n",
              "      <th>V27</th>\n",
              "      <th>V28</th>\n",
              "      <th>Amount</th>\n",
              "      <th>Class</th>\n",
              "    </tr>\n",
              "  </thead>\n",
              "  <tbody>\n",
              "    <tr>\n",
              "      <th>21873</th>\n",
              "      <td>31906</td>\n",
              "      <td>1.285161</td>\n",
              "      <td>-0.701455</td>\n",
              "      <td>0.221870</td>\n",
              "      <td>-0.744753</td>\n",
              "      <td>-0.674967</td>\n",
              "      <td>0.034267</td>\n",
              "      <td>-0.631373</td>\n",
              "      <td>0.097860</td>\n",
              "      <td>-0.835749</td>\n",
              "      <td>...</td>\n",
              "      <td>0.083025</td>\n",
              "      <td>0.190059</td>\n",
              "      <td>-0.074942</td>\n",
              "      <td>-0.278466</td>\n",
              "      <td>0.463615</td>\n",
              "      <td>-0.223877</td>\n",
              "      <td>0.011735</td>\n",
              "      <td>0.000997</td>\n",
              "      <td>39.75</td>\n",
              "      <td>0.0</td>\n",
              "    </tr>\n",
              "    <tr>\n",
              "      <th>21874</th>\n",
              "      <td>31906</td>\n",
              "      <td>-0.345979</td>\n",
              "      <td>1.094568</td>\n",
              "      <td>1.282208</td>\n",
              "      <td>0.068241</td>\n",
              "      <td>-0.016965</td>\n",
              "      <td>-0.989567</td>\n",
              "      <td>0.693958</td>\n",
              "      <td>-0.050855</td>\n",
              "      <td>-0.333856</td>\n",
              "      <td>...</td>\n",
              "      <td>-0.266852</td>\n",
              "      <td>-0.723026</td>\n",
              "      <td>-0.003364</td>\n",
              "      <td>0.322646</td>\n",
              "      <td>-0.173496</td>\n",
              "      <td>0.073145</td>\n",
              "      <td>0.241997</td>\n",
              "      <td>0.097610</td>\n",
              "      <td>5.99</td>\n",
              "      <td>0.0</td>\n",
              "    </tr>\n",
              "    <tr>\n",
              "      <th>21875</th>\n",
              "      <td>31907</td>\n",
              "      <td>1.171852</td>\n",
              "      <td>0.718042</td>\n",
              "      <td>-0.227521</td>\n",
              "      <td>1.373722</td>\n",
              "      <td>0.152349</td>\n",
              "      <td>-0.949840</td>\n",
              "      <td>0.271427</td>\n",
              "      <td>-0.153000</td>\n",
              "      <td>-0.184297</td>\n",
              "      <td>...</td>\n",
              "      <td>-0.013584</td>\n",
              "      <td>0.088759</td>\n",
              "      <td>-0.059148</td>\n",
              "      <td>0.278992</td>\n",
              "      <td>0.589886</td>\n",
              "      <td>-0.319374</td>\n",
              "      <td>0.055064</td>\n",
              "      <td>0.058347</td>\n",
              "      <td>1.00</td>\n",
              "      <td>0.0</td>\n",
              "    </tr>\n",
              "    <tr>\n",
              "      <th>21876</th>\n",
              "      <td>31907</td>\n",
              "      <td>1.209330</td>\n",
              "      <td>-1.130242</td>\n",
              "      <td>1.614261</td>\n",
              "      <td>0.000265</td>\n",
              "      <td>-1.974416</td>\n",
              "      <td>0.262320</td>\n",
              "      <td>-1.369554</td>\n",
              "      <td>0.173769</td>\n",
              "      <td>0.639855</td>\n",
              "      <td>...</td>\n",
              "      <td>-0.520157</td>\n",
              "      <td>-0.573057</td>\n",
              "      <td>0.037646</td>\n",
              "      <td>0.488580</td>\n",
              "      <td>0.161446</td>\n",
              "      <td>1.067798</td>\n",
              "      <td>0.025745</td>\n",
              "      <td>0.028549</td>\n",
              "      <td>40.00</td>\n",
              "      <td>0.0</td>\n",
              "    </tr>\n",
              "    <tr>\n",
              "      <th>21877</th>\n",
              "      <td>31907</td>\n",
              "      <td>-0.184653</td>\n",
              "      <td>0.376693</td>\n",
              "      <td>0.632988</td>\n",
              "      <td>-2.282365</td>\n",
              "      <td>0.403553</td>\n",
              "      <td>-0.371666</td>\n",
              "      <td>0.695359</td>\n",
              "      <td>-0.064835</td>\n",
              "      <td>0.610986</td>\n",
              "      <td>...</td>\n",
              "      <td>-0.130997</td>\n",
              "      <td>-0.312833</td>\n",
              "      <td>-0.156567</td>\n",
              "      <td>-0.899683</td>\n",
              "      <td>0.093186</td>\n",
              "      <td>-0.130187</td>\n",
              "      <td>0.029255</td>\n",
              "      <td>0.009228</td>\n",
              "      <td>NaN</td>\n",
              "      <td>NaN</td>\n",
              "    </tr>\n",
              "  </tbody>\n",
              "</table>\n",
              "<p>5 rows × 31 columns</p>\n",
              "</div>\n",
              "      <button class=\"colab-df-convert\" onclick=\"convertToInteractive('df-eff60515-e04d-4463-910c-46753e23adad')\"\n",
              "              title=\"Convert this dataframe to an interactive table.\"\n",
              "              style=\"display:none;\">\n",
              "        \n",
              "  <svg xmlns=\"http://www.w3.org/2000/svg\" height=\"24px\"viewBox=\"0 0 24 24\"\n",
              "       width=\"24px\">\n",
              "    <path d=\"M0 0h24v24H0V0z\" fill=\"none\"/>\n",
              "    <path d=\"M18.56 5.44l.94 2.06.94-2.06 2.06-.94-2.06-.94-.94-2.06-.94 2.06-2.06.94zm-11 1L8.5 8.5l.94-2.06 2.06-.94-2.06-.94L8.5 2.5l-.94 2.06-2.06.94zm10 10l.94 2.06.94-2.06 2.06-.94-2.06-.94-.94-2.06-.94 2.06-2.06.94z\"/><path d=\"M17.41 7.96l-1.37-1.37c-.4-.4-.92-.59-1.43-.59-.52 0-1.04.2-1.43.59L10.3 9.45l-7.72 7.72c-.78.78-.78 2.05 0 2.83L4 21.41c.39.39.9.59 1.41.59.51 0 1.02-.2 1.41-.59l7.78-7.78 2.81-2.81c.8-.78.8-2.07 0-2.86zM5.41 20L4 18.59l7.72-7.72 1.47 1.35L5.41 20z\"/>\n",
              "  </svg>\n",
              "      </button>\n",
              "      \n",
              "  <style>\n",
              "    .colab-df-container {\n",
              "      display:flex;\n",
              "      flex-wrap:wrap;\n",
              "      gap: 12px;\n",
              "    }\n",
              "\n",
              "    .colab-df-convert {\n",
              "      background-color: #E8F0FE;\n",
              "      border: none;\n",
              "      border-radius: 50%;\n",
              "      cursor: pointer;\n",
              "      display: none;\n",
              "      fill: #1967D2;\n",
              "      height: 32px;\n",
              "      padding: 0 0 0 0;\n",
              "      width: 32px;\n",
              "    }\n",
              "\n",
              "    .colab-df-convert:hover {\n",
              "      background-color: #E2EBFA;\n",
              "      box-shadow: 0px 1px 2px rgba(60, 64, 67, 0.3), 0px 1px 3px 1px rgba(60, 64, 67, 0.15);\n",
              "      fill: #174EA6;\n",
              "    }\n",
              "\n",
              "    [theme=dark] .colab-df-convert {\n",
              "      background-color: #3B4455;\n",
              "      fill: #D2E3FC;\n",
              "    }\n",
              "\n",
              "    [theme=dark] .colab-df-convert:hover {\n",
              "      background-color: #434B5C;\n",
              "      box-shadow: 0px 1px 3px 1px rgba(0, 0, 0, 0.15);\n",
              "      filter: drop-shadow(0px 1px 2px rgba(0, 0, 0, 0.3));\n",
              "      fill: #FFFFFF;\n",
              "    }\n",
              "  </style>\n",
              "\n",
              "      <script>\n",
              "        const buttonEl =\n",
              "          document.querySelector('#df-eff60515-e04d-4463-910c-46753e23adad button.colab-df-convert');\n",
              "        buttonEl.style.display =\n",
              "          google.colab.kernel.accessAllowed ? 'block' : 'none';\n",
              "\n",
              "        async function convertToInteractive(key) {\n",
              "          const element = document.querySelector('#df-eff60515-e04d-4463-910c-46753e23adad');\n",
              "          const dataTable =\n",
              "            await google.colab.kernel.invokeFunction('convertToInteractive',\n",
              "                                                     [key], {});\n",
              "          if (!dataTable) return;\n",
              "\n",
              "          const docLinkHtml = 'Like what you see? Visit the ' +\n",
              "            '<a target=\"_blank\" href=https://colab.research.google.com/notebooks/data_table.ipynb>data table notebook</a>'\n",
              "            + ' to learn more about interactive tables.';\n",
              "          element.innerHTML = '';\n",
              "          dataTable['output_type'] = 'display_data';\n",
              "          await google.colab.output.renderOutput(dataTable, element);\n",
              "          const docLink = document.createElement('div');\n",
              "          docLink.innerHTML = docLinkHtml;\n",
              "          element.appendChild(docLink);\n",
              "        }\n",
              "      </script>\n",
              "    </div>\n",
              "  </div>\n",
              "  "
            ]
          },
          "metadata": {},
          "execution_count": 4
        }
      ],
      "source": [
        "dataset.tail() #.tail() is used to get last n rows"
      ]
    },
    {
      "cell_type": "code",
      "source": [
        "dataset.isnull().sum() #. isnull() is used to replaced with a Boolean value True for NULL values, and otherwise False."
      ],
      "metadata": {
        "colab": {
          "base_uri": "https://localhost:8080/"
        },
        "id": "rAE3R3PYelKL",
        "outputId": "be892594-1667-4648-8fd9-ed53047b0033"
      },
      "execution_count": null,
      "outputs": [
        {
          "output_type": "execute_result",
          "data": {
            "text/plain": [
              "Time      0\n",
              "V1        0\n",
              "V2        0\n",
              "V3        0\n",
              "V4        0\n",
              "V5        0\n",
              "V6        0\n",
              "V7        0\n",
              "V8        0\n",
              "V9        0\n",
              "V10       0\n",
              "V11       0\n",
              "V12       0\n",
              "V13       0\n",
              "V14       0\n",
              "V15       0\n",
              "V16       0\n",
              "V17       0\n",
              "V18       0\n",
              "V19       0\n",
              "V20       0\n",
              "V21       0\n",
              "V22       0\n",
              "V23       0\n",
              "V24       0\n",
              "V25       0\n",
              "V26       0\n",
              "V27       0\n",
              "V28       0\n",
              "Amount    1\n",
              "Class     1\n",
              "dtype: int64"
            ]
          },
          "metadata": {},
          "execution_count": 5
        }
      ]
    },
    {
      "cell_type": "code",
      "source": [
        "dataset = dataset.dropna() # .dropna() remove the row that contains null value"
      ],
      "metadata": {
        "id": "ztECo0-NfH-G"
      },
      "execution_count": null,
      "outputs": []
    },
    {
      "cell_type": "code",
      "source": [
        "dataset.isnull().sum() #. sum() return the sum of the values for the requested axis by the user"
      ],
      "metadata": {
        "colab": {
          "base_uri": "https://localhost:8080/"
        },
        "id": "OuQvd5e6fN8T",
        "outputId": "b6252888-0a90-42fd-d128-ecaf1b97049d"
      },
      "execution_count": null,
      "outputs": [
        {
          "output_type": "execute_result",
          "data": {
            "text/plain": [
              "Time      0\n",
              "V1        0\n",
              "V2        0\n",
              "V3        0\n",
              "V4        0\n",
              "V5        0\n",
              "V6        0\n",
              "V7        0\n",
              "V8        0\n",
              "V9        0\n",
              "V10       0\n",
              "V11       0\n",
              "V12       0\n",
              "V13       0\n",
              "V14       0\n",
              "V15       0\n",
              "V16       0\n",
              "V17       0\n",
              "V18       0\n",
              "V19       0\n",
              "V20       0\n",
              "V21       0\n",
              "V22       0\n",
              "V23       0\n",
              "V24       0\n",
              "V25       0\n",
              "V26       0\n",
              "V27       0\n",
              "V28       0\n",
              "Amount    0\n",
              "Class     0\n",
              "dtype: int64"
            ]
          },
          "metadata": {},
          "execution_count": 7
        }
      ]
    },
    {
      "cell_type": "code",
      "execution_count": null,
      "metadata": {
        "id": "SiE9fc9CVZLs"
      },
      "outputs": [],
      "source": [
        "X = dataset.drop('Class', axis=1)  #drop() used to drop specified labels from rows or columns\n",
        "y = dataset['Class']"
      ]
    },
    {
      "cell_type": "code",
      "execution_count": null,
      "metadata": {
        "id": "18xTUT8aVZLs"
      },
      "outputs": [],
      "source": [
        "from sklearn.model_selection import train_test_split\n",
        "X_train, X_test, y_train, y_test = train_test_split(X, y, test_size=0.20)  #test size : the percentage of data you want to be in test set\n",
        "#print(X_test.iloc[0,:])  , location"
      ]
    },
    {
      "cell_type": "code",
      "source": [
        "print(X_test)"
      ],
      "metadata": {
        "colab": {
          "base_uri": "https://localhost:8080/"
        },
        "id": "GQkFIrL5eXwE",
        "outputId": "f76a80e2-c01c-4c2a-dceb-87e769fe9ca4"
      },
      "execution_count": null,
      "outputs": [
        {
          "output_type": "stream",
          "name": "stdout",
          "text": [
            "        Time        V1        V2        V3        V4        V5        V6  \\\n",
            "6989    9140 -0.790966  1.195683  1.270240 -0.267146 -0.023160 -0.566069   \n",
            "15798  27240  1.100194 -0.073117 -0.411282  0.473965  0.287575 -0.184361   \n",
            "10012  15052 -2.361985  2.305542  1.272110 -1.837207  0.206866 -0.608187   \n",
            "18012  29113  1.236633  0.187175 -0.174051  0.446210 -0.130176 -1.014083   \n",
            "17637  28834  1.207926 -0.789070  0.529527 -0.534195 -1.009504 -0.124948   \n",
            "...      ...       ...       ...       ...       ...       ...       ...   \n",
            "17178  28501  1.305616  0.151458 -1.485607 -0.058496  2.394843  3.189059   \n",
            "3664    3136  1.216198  0.086014  0.214906  0.714629 -0.373391 -0.761150   \n",
            "11860  20388 -0.358611  1.133696  1.307448  0.079902  0.264467 -0.445892   \n",
            "4723    4156 -1.252275 -0.377921  2.613455  1.753363  0.680749 -0.572591   \n",
            "2475    2039 -4.454186 -3.581156 -0.522735  2.216885  6.077260 -5.500163   \n",
            "\n",
            "             V7        V8        V9  ...       V20       V21       V22  \\\n",
            "6989   0.306686  0.384884  0.789019  ... -0.366738 -0.223746 -0.609533   \n",
            "15798  0.387912 -0.165050 -0.117307  ...  0.117559 -0.018556 -0.196407   \n",
            "10012  1.242427 -0.953702  4.210509  ...  1.727361 -0.806318 -0.442150   \n",
            "18012  0.338075 -0.187068 -0.355790  ... -0.128962  0.020696 -0.008628   \n",
            "17637 -0.674119  0.097185 -0.714928  ...  0.103788  0.097129  0.266258   \n",
            "...         ...       ...       ...  ...       ...       ...       ...   \n",
            "17178 -0.195307  0.711277 -0.267473  ... -0.018768 -0.080875 -0.346227   \n",
            "3664   0.097212 -0.090298  0.296224  ... -0.239189 -0.031766  0.054995   \n",
            "11860  0.453939  0.055319  0.760880  ...  0.044570 -0.392834 -0.881559   \n",
            "4723  -0.844290  0.205576  1.007159  ...  0.402911  0.241604  0.651255   \n",
            "2475  -1.928049 -0.207121 -0.394237  ...  0.155928  0.036795 -0.215103   \n",
            "\n",
            "            V23       V24       V25       V26       V27       V28  Amount  \n",
            "6989   0.140475 -0.028320 -0.642916 -0.137278 -0.053218  0.076091    8.99  \n",
            "15798 -0.229285 -0.715470  0.582926  0.437122 -0.053540  0.012766  107.60  \n",
            "10012 -0.042714  0.007716  0.082813  0.620957  0.496672 -0.389940    1.15  \n",
            "18012 -0.121250  0.358915  0.604252  0.519368 -0.083857 -0.011143   16.72  \n",
            "17637 -0.028447  0.264066  0.408954 -0.249524  0.017974  0.009327   54.00  \n",
            "...         ...       ...       ...       ...       ...       ...     ...  \n",
            "17178 -0.132474  1.000005  0.886958 -0.343034  0.005249  0.010525    7.32  \n",
            "3664  -0.024938  0.434220  0.513600  0.568000 -0.041906 -0.001788    0.00  \n",
            "11860 -0.050238 -0.128323 -0.194498  0.038587  0.210401  0.076819    1.79  \n",
            "4723   0.261734  0.357739 -0.531236 -0.322070  0.150431  0.189056   33.00  \n",
            "2475   0.096331  0.669872 -0.168050 -0.595656  0.045526  0.851741    0.89  \n",
            "\n",
            "[4376 rows x 30 columns]\n"
          ]
        }
      ]
    },
    {
      "cell_type": "code",
      "execution_count": null,
      "metadata": {
        "colab": {
          "base_uri": "https://localhost:8080/"
        },
        "id": "_zibmXXSVZLt",
        "outputId": "6ebf2c93-c6a0-4610-fe82-788483d36d73"
      },
      "outputs": [
        {
          "output_type": "execute_result",
          "data": {
            "text/plain": [
              "DecisionTreeClassifier()"
            ]
          },
          "metadata": {},
          "execution_count": 11
        }
      ],
      "source": [
        "from sklearn.tree import DecisionTreeClassifier\n",
        "classifier = DecisionTreeClassifier()\n",
        "classifier.fit(X_train, y_train)  #fit to train x and y"
      ]
    },
    {
      "cell_type": "code",
      "execution_count": null,
      "metadata": {
        "colab": {
          "base_uri": "https://localhost:8080/"
        },
        "id": "JuBM6l1NVZLt",
        "outputId": "6d7b0341-c40f-4d9f-9f61-130bac045c87"
      },
      "outputs": [
        {
          "output_type": "stream",
          "name": "stdout",
          "text": [
            "[[4357    0]\n",
            " [   8   11]]\n",
            "              precision    recall  f1-score   support\n",
            "\n",
            "         0.0       1.00      1.00      1.00      4357\n",
            "         1.0       1.00      0.58      0.73        19\n",
            "\n",
            "    accuracy                           1.00      4376\n",
            "   macro avg       1.00      0.79      0.87      4376\n",
            "weighted avg       1.00      1.00      1.00      4376\n",
            "\n"
          ]
        }
      ],
      "source": [
        "y_pred = classifier.predict(X_test)\n",
        "#print(y_pred)\n",
        "from sklearn.metrics import classification_report, confusion_matrix\n",
        "print(confusion_matrix(y_test, y_pred))\n",
        "print(classification_report(y_test, y_pred))"
      ]
    },
    {
      "cell_type": "code",
      "source": [
        "#Precision :is the ratio of correctly predicted positive observations to the total predicted positive observations\n",
        "#Recall is the ratio of correctly predicted positive observations to the all observations in actual class - yes\n",
        "#F1 Score is the weighted average of Precision and Recall\n",
        "#The support is the number of samples of the true response that lie in that class"
      ],
      "metadata": {
        "id": "pV8cVECcfO2L"
      },
      "execution_count": null,
      "outputs": []
    },
    {
      "cell_type": "code",
      "source": [
        "'''import numpy as np\n",
        "test = np.random.random(30)\n",
        "print(test)\n",
        "test1 = list(test)'''"
      ],
      "metadata": {
        "colab": {
          "base_uri": "https://localhost:8080/",
          "height": 36
        },
        "id": "z99bRbB1flqU",
        "outputId": "3a68630b-592e-44b6-b9e4-1e73525c82d5"
      },
      "execution_count": null,
      "outputs": [
        {
          "output_type": "execute_result",
          "data": {
            "text/plain": [
              "'import numpy as np\\ntest = np.random.random(30)\\nprint(test)\\ntest1 = list(test)'"
            ],
            "application/vnd.google.colaboratory.intrinsic+json": {
              "type": "string"
            }
          },
          "metadata": {},
          "execution_count": 14
        }
      ]
    },
    {
      "cell_type": "code",
      "source": [
        "a = np.array([472,-3.043540624,-3.157307121,1.08846278,2.288643618,1.35980513,-1.064822523,0.325574266,-0.067793653,-0.270952836,-0.838586565,-0.414575448,-0.50314086,0.676501545,-1.692028933,2.000634839,0.666779696,0.599717414,1.725321007,0.28334483,2.102338793,0.661695925,0.435477209,1.375965743,-0.293803153,0.279798032,-0.145361715,-0.252773123,0.035764225,529])"
      ],
      "metadata": {
        "id": "wKcXrAUaFwvB"
      },
      "execution_count": null,
      "outputs": []
    },
    {
      "cell_type": "code",
      "source": [
        "a.reshape(-1,1)"
      ],
      "metadata": {
        "colab": {
          "base_uri": "https://localhost:8080/"
        },
        "id": "s-klldhWh5q8",
        "outputId": "837c0704-af38-4601-d612-6e8074d41158"
      },
      "execution_count": null,
      "outputs": [
        {
          "output_type": "execute_result",
          "data": {
            "text/plain": [
              "array([[ 4.72000000e+02],\n",
              "       [-3.04354062e+00],\n",
              "       [-3.15730712e+00],\n",
              "       [ 1.08846278e+00],\n",
              "       [ 2.28864362e+00],\n",
              "       [ 1.35980513e+00],\n",
              "       [-1.06482252e+00],\n",
              "       [ 3.25574266e-01],\n",
              "       [-6.77936530e-02],\n",
              "       [-2.70952836e-01],\n",
              "       [-8.38586565e-01],\n",
              "       [-4.14575448e-01],\n",
              "       [-5.03140860e-01],\n",
              "       [ 6.76501545e-01],\n",
              "       [-1.69202893e+00],\n",
              "       [ 2.00063484e+00],\n",
              "       [ 6.66779696e-01],\n",
              "       [ 5.99717414e-01],\n",
              "       [ 1.72532101e+00],\n",
              "       [ 2.83344830e-01],\n",
              "       [ 2.10233879e+00],\n",
              "       [ 6.61695925e-01],\n",
              "       [ 4.35477209e-01],\n",
              "       [ 1.37596574e+00],\n",
              "       [-2.93803153e-01],\n",
              "       [ 2.79798032e-01],\n",
              "       [-1.45361715e-01],\n",
              "       [-2.52773123e-01],\n",
              "       [ 3.57642250e-02],\n",
              "       [ 5.29000000e+02]])"
            ]
          },
          "metadata": {},
          "execution_count": 16
        }
      ]
    },
    {
      "cell_type": "code",
      "source": [
        "y_pred = classifier.predict([a])\n",
        "print(y_pred)"
      ],
      "metadata": {
        "colab": {
          "base_uri": "https://localhost:8080/"
        },
        "id": "owP7VStlfY5T",
        "outputId": "7801e596-5487-4e02-bf7b-df9a4971d495"
      },
      "execution_count": null,
      "outputs": [
        {
          "output_type": "stream",
          "name": "stdout",
          "text": [
            "[1.]\n"
          ]
        },
        {
          "output_type": "stream",
          "name": "stderr",
          "text": [
            "/usr/local/lib/python3.7/dist-packages/sklearn/base.py:451: UserWarning: X does not have valid feature names, but DecisionTreeClassifier was fitted with feature names\n",
            "  \"X does not have valid feature names, but\"\n"
          ]
        }
      ]
    },
    {
      "cell_type": "code",
      "source": [],
      "metadata": {
        "id": "ByjO67krhP1Z"
      },
      "execution_count": null,
      "outputs": []
    }
  ],
  "metadata": {
    "kernelspec": {
      "display_name": "Python 3",
      "language": "python",
      "name": "python3"
    },
    "language_info": {
      "codemirror_mode": {
        "name": "ipython",
        "version": 3
      },
      "file_extension": ".py",
      "mimetype": "text/x-python",
      "name": "python",
      "nbconvert_exporter": "python",
      "pygments_lexer": "ipython3",
      "version": "3.6.4"
    },
    "colab": {
      "provenance": []
    }
  },
  "nbformat": 4,
  "nbformat_minor": 0
}